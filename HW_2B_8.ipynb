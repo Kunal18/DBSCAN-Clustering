{
  "nbformat": 4,
  "nbformat_minor": 0,
  "metadata": {
    "colab": {
      "provenance": []
    },
    "kernelspec": {
      "name": "python3",
      "display_name": "Python 3"
    },
    "language_info": {
      "name": "python"
    }
  },
  "cells": [
    {
      "cell_type": "code",
      "execution_count": null,
      "metadata": {
        "id": "CLAA_yFpvBmn"
      },
      "outputs": [],
      "source": [
        "from keras.datasets import mnist\n",
        "import numpy as np\n",
        "from sklearn.model_selection import train_test_split \n",
        "import matplotlib.pyplot as plt\n",
        "from sklearn.cluster import AgglomerativeClustering\n",
        "from scipy.cluster.hierarchy import dendrogram, linkage"
      ]
    },
    {
      "cell_type": "code",
      "source": [
        "def gini(pred_labels, labels):\n",
        "    n_clusters = 10 #len(np.unique(pred_labels))\n",
        "    n_points = len(pred_labels)\n",
        "    count_matrix = np.zeros((n_clusters, n_clusters))\n",
        "    for i in range(n_points):\n",
        "        count_matrix[pred_labels[i], labels[i]] += 1\n",
        "    count_matrix = count_matrix / count_matrix.sum(axis=1)[:, np.newaxis]\n",
        "    gini = 1 - ((count_matrix ** 2).sum(axis=1).sum() / n_clusters)\n",
        "    return print(\"Gini:\",gini)\n",
        "\n",
        "\n",
        "    # Gini index = 1 - sum((gini_cluster1 + gini_cluster2)/N)"
      ],
      "metadata": {
        "id": "djYtaeT-C43j"
      },
      "execution_count": null,
      "outputs": []
    },
    {
      "cell_type": "code",
      "source": [
        "def purity(K,pred_labels,labels):\n",
        "    \n",
        "    n_clusters = K #len(np.unique(pred_labels))\n",
        "    n_points = len(pred_labels)\n",
        "    #print(n_clusters,n_points)\n",
        "    count_matrix = np.zeros((n_clusters, n_clusters))\n",
        "\n",
        "    # Count the number of points in each cluster-true label combination\n",
        "    for i in range(n_points):\n",
        "        count_matrix[pred_labels[i], labels[i]] += 1\n",
        "\n",
        "    row_sums = np.max(count_matrix, axis=1)\n",
        "    purity = np.sum(row_sums) / n_points\n",
        "    return print(\"Purity:\",purity)"
      ],
      "metadata": {
        "id": "BzZSO4MZCy4P"
      },
      "execution_count": null,
      "outputs": []
    },
    {
      "cell_type": "code",
      "source": [
        "(subset_data1, subset_label1), (subset_data2, subset_label2) = mnist.load_data()\n",
        "subset_data2 = None\n",
        "subset_label2 = None\n",
        "\n",
        "X_train, X_test, y_train, y_test = train_test_split(subset_data1,subset_label1, test_size=0.5)\n",
        "\n",
        "# flatten the images\n",
        "X_train = X_train.reshape(X_train.shape[0], -1)\n",
        "X_test = X_test.reshape(X_test.shape[0], -1)\n",
        "\n",
        "# normalize the data\n",
        "X_train = X_train / 255.0\n",
        "X_test = X_test / 255.0"
      ],
      "metadata": {
        "id": "OQoYlvgBvtd1"
      },
      "execution_count": null,
      "outputs": []
    },
    {
      "cell_type": "code",
      "source": [
        "print(X_train.shape,y_train.shape,X_test.shape,y_test.shape)"
      ],
      "metadata": {
        "colab": {
          "base_uri": "https://localhost:8080/"
        },
        "id": "AOzaj8e7yxZk",
        "outputId": "16b0ab6c-bf23-4c5b-e836-26fcc7556414"
      },
      "execution_count": null,
      "outputs": [
        {
          "output_type": "stream",
          "name": "stdout",
          "text": [
            "(30000, 784) (30000,) (30000, 784) (30000,)\n"
          ]
        }
      ]
    },
    {
      "cell_type": "code",
      "source": [
        "Z = linkage(X_train, method='ward')\n",
        "plt.figure(figsize=(15, 5))\n",
        "dendrogram(Z)\n",
        "plt.show()"
      ],
      "metadata": {
        "colab": {
          "base_uri": "https://localhost:8080/",
          "height": 326
        },
        "id": "oHzb9mX-3-qm",
        "outputId": "625bd5b7-fb9f-4dbc-ec0b-b84c20d72178"
      },
      "execution_count": null,
      "outputs": [
        {
          "output_type": "display_data",
          "data": {
            "text/plain": [
              "<Figure size 1080x360 with 1 Axes>"
            ],
            "image/png": "[encoded data removed]"
          },
          "metadata": {
            "needs_background": "light"
          }
        }
      ]
    },
    {
      "cell_type": "code",
      "source": [
        "n_clusters = 10  # number of clusters to create\n",
        "clustering = AgglomerativeClustering(n_clusters=n_clusters) #affinity = \"euclidean\", linkage = \"ward\"\n",
        "clustering.fit_predict(X_train)"
      ],
      "metadata": {
        "colab": {
          "base_uri": "https://localhost:8080/"
        },
        "id": "MRgNa3PmyRSD",
        "outputId": "b51ff77f-a586-49cf-db10-56887ce36f55"
      },
      "execution_count": null,
      "outputs": [
        {
          "output_type": "execute_result",
          "data": {
            "text/plain": [
              "array([6, 0, 0, ..., 7, 5, 3])"
            ]
          },
          "metadata": {},
          "execution_count": 5
        }
      ]
    },
    {
      "cell_type": "code",
      "source": [
        "purity(10,clustering.labels_,y_train)"
      ],
      "metadata": {
        "colab": {
          "base_uri": "https://localhost:8080/"
        },
        "id": "fjCLOvexDOSS",
        "outputId": "a2da369b-a95d-41e6-e81b-257504b89ed3"
      },
      "execution_count": null,
      "outputs": [
        {
          "output_type": "stream",
          "name": "stdout",
          "text": [
            "Purity: 0.6398333333333334\n"
          ]
        }
      ]
    },
    {
      "cell_type": "code",
      "source": [
        "gini(clustering.labels_,y_train)"
      ],
      "metadata": {
        "colab": {
          "base_uri": "https://localhost:8080/"
        },
        "id": "R0Yy1JgSEWEj",
        "outputId": "0558a944-8c25-4bcd-e516-eb44278ea562"
      },
      "execution_count": null,
      "outputs": [
        {
          "output_type": "stream",
          "name": "stdout",
          "text": [
            "Gini: 0.3645309462940267\n"
          ]
        }
      ]
    }
  ]
}